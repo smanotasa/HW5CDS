{
 "cells": [
  {
   "cell_type": "code",
   "execution_count": 1,
   "metadata": {},
   "outputs": [],
   "source": [
    "from cruasan.load_data.load_data import load_data\n",
    "from cruasan.data_cleanup.data_cleanup import fill_mean, drop_nan\n",
    "from cruasan.features.features import gen_bin, gen_dummy\n",
    "from cruasan.split_data.split_data import split_data\n",
    "from cruasan.train_model.train_model import train_model, pred\n",
    "from cruasan.score.score import roc_score"
   ]
  },
  {
   "cell_type": "code",
   "execution_count": 2,
   "metadata": {},
   "outputs": [],
   "source": [
    "#Load data\n",
    "df = load_data('sample_diabetes_mellitus_data.csv')"
   ]
  },
  {
   "cell_type": "code",
   "execution_count": 3,
   "metadata": {},
   "outputs": [],
   "source": [
    "#Drop NaN\n",
    "df = drop_nan(['age', 'gender', 'ethnicity'], df)\n",
    "\n",
    "#Fill mean\n",
    "df = fill_mean(df, 'height')\n",
    "df = fill_mean(df, 'weight')"
   ]
  },
  {
   "cell_type": "code",
   "execution_count": 4,
   "metadata": {},
   "outputs": [
    {
     "data": {
      "text/plain": [
       "encounter_id                      0\n",
       "hospital_id                       0\n",
       "age                               0\n",
       "bmi                            1622\n",
       "elective_surgery                  0\n",
       "ethnicity                         0\n",
       "gender                            0\n",
       "height                            0\n",
       "hospital_admit_source           850\n",
       "icu_admit_source                 21\n",
       "icu_id                            0\n",
       "icu_stay_type                     0\n",
       "icu_type                          0\n",
       "pre_icu_los_days                  0\n",
       "readmission_status                0\n",
       "weight                            0\n",
       "albumin_apache                 6046\n",
       "apache_2_diagnosis              177\n",
       "apache_3j_diagnosis              49\n",
       "apache_post_operative             0\n",
       "arf_apache                        0\n",
       "bilirubin_apache               6170\n",
       "bun_apache                     2372\n",
       "creatinine_apache              2247\n",
       "fio2_apache                    6583\n",
       "gcs_eyes_apache                  65\n",
       "gcs_motor_apache                 65\n",
       "gcs_unable_apache                61\n",
       "gcs_verbal_apache                65\n",
       "glucose_apache                 1008\n",
       "heart_rate_apache                 1\n",
       "hematocrit_apache              1879\n",
       "intubated_apache                  0\n",
       "map_apache                       12\n",
       "paco2_apache                   6583\n",
       "paco2_for_ph_apache            6583\n",
       "pao2_apache                    6583\n",
       "ph_apache                      6583\n",
       "resprate_apache                  33\n",
       "sodium_apache                  2321\n",
       "temp_apache                      85\n",
       "urineoutput_apache             7981\n",
       "ventilated_apache                 0\n",
       "wbc_apache                     2054\n",
       "aids                              0\n",
       "cirrhosis                         0\n",
       "hepatic_failure                   0\n",
       "immunosuppression                 0\n",
       "leukemia                          0\n",
       "lymphoma                          0\n",
       "solid_tumor_with_metastasis       0\n",
       "diabetes_mellitus                 0\n",
       "dtype: int64"
      ]
     },
     "execution_count": 4,
     "metadata": {},
     "output_type": "execute_result"
    }
   ],
   "source": [
    "df.isnull().sum()"
   ]
  },
  {
   "cell_type": "code",
   "execution_count": 5,
   "metadata": {},
   "outputs": [],
   "source": [
    "#Generate dummies\n",
    "df = gen_dummy(df,['ethnicity'])\n",
    "\n",
    "#Generate binary\n",
    "df= gen_bin(df,['gender'])"
   ]
  },
  {
   "cell_type": "code",
   "execution_count": 6,
   "metadata": {},
   "outputs": [],
   "source": [
    "#Split data\n",
    "y = df['diabetes_mellitus'].reset_index(drop=True)\n",
    "X = df.iloc[:len(y), :]\n",
    "\n",
    "X_train, X_test, y_train, y_test = split_data(X,y)"
   ]
  },
  {
   "cell_type": "code",
   "execution_count": 7,
   "metadata": {},
   "outputs": [],
   "source": [
    "#Train model\n",
    "cols = ['age','height','weight','aids','cirrhosis','hepatic_failure','immunosuppression','leukemia','lymphoma','solid_tumor_with_metastasis']\n",
    "X_train, y_train = train_model(X_train[cols], y_train)"
   ]
  },
  {
   "cell_type": "code",
   "execution_count": 8,
   "metadata": {},
   "outputs": [],
   "source": [
    "#Predict\n",
    "X_test = X_test[cols]\n",
    "X_train, X_test, train_pred, test_pred = pred(X_train, X_test)"
   ]
  },
  {
   "cell_type": "code",
   "execution_count": 9,
   "metadata": {},
   "outputs": [],
   "source": [
    "#Train and test roc_auc\n",
    "score_train, score_test = roc_score(train_pred, y_train,test_pred, y_test)"
   ]
  },
  {
   "cell_type": "code",
   "execution_count": 10,
   "metadata": {},
   "outputs": [
    {
     "data": {
      "text/plain": [
       "0.6702434388471388"
      ]
     },
     "execution_count": 10,
     "metadata": {},
     "output_type": "execute_result"
    }
   ],
   "source": [
    "score_train"
   ]
  },
  {
   "cell_type": "code",
   "execution_count": 11,
   "metadata": {},
   "outputs": [
    {
     "data": {
      "text/plain": [
       "0.6731288040028379"
      ]
     },
     "execution_count": 11,
     "metadata": {},
     "output_type": "execute_result"
    }
   ],
   "source": [
    "score_test"
   ]
  }
 ],
 "metadata": {
  "kernelspec": {
   "display_name": "Python 3.8.11 ('virtualenv_hw5')",
   "language": "python",
   "name": "python3"
  },
  "language_info": {
   "codemirror_mode": {
    "name": "ipython",
    "version": 3
   },
   "file_extension": ".py",
   "mimetype": "text/x-python",
   "name": "python",
   "nbconvert_exporter": "python",
   "pygments_lexer": "ipython3",
   "version": "3.8.11"
  },
  "orig_nbformat": 4,
  "vscode": {
   "interpreter": {
    "hash": "d3b8067d6a5fae7539d728542f2cdc181a20bdfd9322a08d1ddaa1c5e2441ad7"
   }
  }
 },
 "nbformat": 4,
 "nbformat_minor": 2
}
